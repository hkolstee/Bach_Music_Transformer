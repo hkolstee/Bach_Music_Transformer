{
 "cells": [
  {
   "cell_type": "code",
   "execution_count": 1,
   "metadata": {},
   "outputs": [
    {
     "name": "stderr",
     "output_type": "stream",
     "text": [
      "2024-10-10 22:53:04.179208: I tensorflow/core/platform/cpu_feature_guard.cc:182] This TensorFlow binary is optimized to use available CPU instructions in performance-critical operations.\n",
      "To enable the following instructions: AVX2 FMA, in other operations, rebuild TensorFlow with the appropriate compiler flags.\n"
     ]
    }
   ],
   "source": [
    "import os\n",
    "import sys\n",
    "\n",
    "import numpy as np\n",
    "import pandas as pd\n",
    "\n",
    "import torch\n",
    "import torch.functional as F\n",
    "from torch.utils.tensorboard import SummaryWriter\n",
    "\n",
    "from sklearn.preprocessing import StandardScaler\n",
    "from sklearn.model_selection import train_test_split\n",
    "\n",
    "import matplotlib.pyplot as plt\n",
    "import seaborn as sns"
   ]
  },
  {
   "cell_type": "code",
   "execution_count": 2,
   "metadata": {},
   "outputs": [],
   "source": [
    "SEQ_LENGTH = 128\n",
    "SEQ_OVERLAP = 16\n",
    "PAD_VALUE = -100."
   ]
  },
  {
   "cell_type": "code",
   "execution_count": 3,
   "metadata": {},
   "outputs": [],
   "source": [
    "device = torch.device(\"cuda:0\" if torch.cuda.is_available() else \"cpu\")"
   ]
  },
  {
   "cell_type": "markdown",
   "metadata": {},
   "source": [
    "# DATA PREPARATION"
   ]
  },
  {
   "cell_type": "code",
   "execution_count": 4,
   "metadata": {},
   "outputs": [
    {
     "name": "stdout",
     "output_type": "stream",
     "text": [
      "(3804, 4)\n",
      "[[ 0.  0.  0. 42.]\n",
      " [ 0.  0.  0. 42.]\n",
      " [ 0.  0.  0. 42.]\n",
      " [ 0.  0.  0. 42.]\n",
      " [ 0.  0.  0. 42.]\n",
      " [ 0.  0.  0. 42.]\n",
      " [ 0.  0.  0. 42.]\n",
      " [ 0.  0.  0. 42.]\n",
      " [ 0.  0.  0. 49.]\n",
      " [ 0.  0.  0. 49.]]\n"
     ]
    }
   ],
   "source": [
    "# the fugue that we want to finish\n",
    "# load data, 4 voices of instruments\n",
    "target_data = np.loadtxt(\"data/contrapunctusXIV.txt\")\n",
    "print(target_data.shape)\n",
    "print(target_data[0:10])"
   ]
  },
  {
   "cell_type": "code",
   "execution_count": 5,
   "metadata": {},
   "outputs": [],
   "source": [
    "# the data we have, which is other bach music, from other fugues\n",
    "# load data\n",
    "data = np.load('data/js-fakes-16thSeparated.npz', allow_pickle=True, encoding='latin1')\n",
    "# we only use the note pitches\n",
    "data = data[\"pitches\"]"
   ]
  },
  {
   "cell_type": "code",
   "execution_count": 6,
   "metadata": {},
   "outputs": [
    {
     "data": {
      "text/html": [
       "<div>\n",
       "<style scoped>\n",
       "    .dataframe tbody tr th:only-of-type {\n",
       "        vertical-align: middle;\n",
       "    }\n",
       "\n",
       "    .dataframe tbody tr th {\n",
       "        vertical-align: top;\n",
       "    }\n",
       "\n",
       "    .dataframe thead th {\n",
       "        text-align: right;\n",
       "    }\n",
       "</style>\n",
       "<table border=\"1\" class=\"dataframe\">\n",
       "  <thead>\n",
       "    <tr style=\"text-align: right;\">\n",
       "      <th></th>\n",
       "      <th>0</th>\n",
       "      <th>1</th>\n",
       "      <th>2</th>\n",
       "      <th>3</th>\n",
       "    </tr>\n",
       "  </thead>\n",
       "  <tbody>\n",
       "    <tr>\n",
       "      <th>0</th>\n",
       "      <td>67.0</td>\n",
       "      <td>63.0</td>\n",
       "      <td>58.0</td>\n",
       "      <td>51.0</td>\n",
       "    </tr>\n",
       "    <tr>\n",
       "      <th>1</th>\n",
       "      <td>67.0</td>\n",
       "      <td>63.0</td>\n",
       "      <td>58.0</td>\n",
       "      <td>51.0</td>\n",
       "    </tr>\n",
       "    <tr>\n",
       "      <th>2</th>\n",
       "      <td>67.0</td>\n",
       "      <td>63.0</td>\n",
       "      <td>58.0</td>\n",
       "      <td>51.0</td>\n",
       "    </tr>\n",
       "    <tr>\n",
       "      <th>3</th>\n",
       "      <td>67.0</td>\n",
       "      <td>63.0</td>\n",
       "      <td>58.0</td>\n",
       "      <td>51.0</td>\n",
       "    </tr>\n",
       "    <tr>\n",
       "      <th>4</th>\n",
       "      <td>68.0</td>\n",
       "      <td>63.0</td>\n",
       "      <td>60.0</td>\n",
       "      <td>48.0</td>\n",
       "    </tr>\n",
       "    <tr>\n",
       "      <th>...</th>\n",
       "      <td>...</td>\n",
       "      <td>...</td>\n",
       "      <td>...</td>\n",
       "      <td>...</td>\n",
       "    </tr>\n",
       "    <tr>\n",
       "      <th>123</th>\n",
       "      <td>63.0</td>\n",
       "      <td>58.0</td>\n",
       "      <td>55.0</td>\n",
       "      <td>39.0</td>\n",
       "    </tr>\n",
       "    <tr>\n",
       "      <th>124</th>\n",
       "      <td>63.0</td>\n",
       "      <td>58.0</td>\n",
       "      <td>55.0</td>\n",
       "      <td>39.0</td>\n",
       "    </tr>\n",
       "    <tr>\n",
       "      <th>125</th>\n",
       "      <td>63.0</td>\n",
       "      <td>58.0</td>\n",
       "      <td>55.0</td>\n",
       "      <td>39.0</td>\n",
       "    </tr>\n",
       "    <tr>\n",
       "      <th>126</th>\n",
       "      <td>63.0</td>\n",
       "      <td>58.0</td>\n",
       "      <td>55.0</td>\n",
       "      <td>39.0</td>\n",
       "    </tr>\n",
       "    <tr>\n",
       "      <th>127</th>\n",
       "      <td>63.0</td>\n",
       "      <td>58.0</td>\n",
       "      <td>55.0</td>\n",
       "      <td>39.0</td>\n",
       "    </tr>\n",
       "  </tbody>\n",
       "</table>\n",
       "<p>128 rows × 4 columns</p>\n",
       "</div>"
      ],
      "text/plain": [
       "        0     1     2     3\n",
       "0    67.0  63.0  58.0  51.0\n",
       "1    67.0  63.0  58.0  51.0\n",
       "2    67.0  63.0  58.0  51.0\n",
       "3    67.0  63.0  58.0  51.0\n",
       "4    68.0  63.0  60.0  48.0\n",
       "..    ...   ...   ...   ...\n",
       "123  63.0  58.0  55.0  39.0\n",
       "124  63.0  58.0  55.0  39.0\n",
       "125  63.0  58.0  55.0  39.0\n",
       "126  63.0  58.0  55.0  39.0\n",
       "127  63.0  58.0  55.0  39.0\n",
       "\n",
       "[128 rows x 4 columns]"
      ]
     },
     "execution_count": 6,
     "metadata": {},
     "output_type": "execute_result"
    }
   ],
   "source": [
    "# change to list of dataframes\n",
    "data = [pd.DataFrame(sequence) for sequence in data]\n",
    "# append target important fugue we will predict on\n",
    "data.append(pd.DataFrame(target_data).replace(0., -1.))\n",
    "data[0]"
   ]
  },
  {
   "cell_type": "code",
   "execution_count": 7,
   "metadata": {},
   "outputs": [
    {
     "name": "stdout",
     "output_type": "stream",
     "text": [
      "unique values for each of the 4 voices:\n",
      "[29, 35, 34, 36]\n"
     ]
    },
    {
     "data": {
      "text/plain": [
       "Text(0.5, 1.0, 'Sequence length')"
      ]
     },
     "execution_count": 7,
     "metadata": {},
     "output_type": "execute_result"
    },
    {
     "data": {
      "image/png": "[encoded data removed]",
      "text/plain": [
       "<Figure size 640x480 with 1 Axes>"
      ]
     },
     "metadata": {},
     "output_type": "display_data"
    },
    {
     "data": {
      "image/png": "[encoded data removed]",
      "text/plain": [
       "<Figure size 640x480 with 1 Axes>"
      ]
     },
     "metadata": {},
     "output_type": "display_data"
    }
   ],
   "source": [
    "# check out data\n",
    "\n",
    "# unique notes in each voice\n",
    "concat_data = np.concatenate(data, axis = 0)\n",
    "print(\"unique values for each of the 4 voices:\")\n",
    "print([len(set(voice)) for voice in np.transpose(concat_data)])\n",
    "\n",
    "# boxplot of notes\n",
    "concat_data = pd.DataFrame(concat_data)\n",
    "sns.boxenplot(concat_data.replace(-1, np.nan), linewidth=.5, linecolor=\".7\",\n",
    "              line_kws=dict(linewidth=1.5, color=\"#cde\"),\n",
    "              flier_kws=dict(facecolor=\".7\", linewidth=.5)).set_title(\"Notes in each voice\")\n",
    "\n",
    "plt.figure()\n",
    "# boxplot of lengths\n",
    "lengths = np.array([len(sequence) for sequence in data])\n",
    "sns.boxenplot(lengths,linewidth=.5, linecolor=\".7\",\n",
    "              line_kws=dict(linewidth=1.5, color=\"#cde\"),\n",
    "              flier_kws=dict(facecolor=\".7\", linewidth=.5)).set_title(\"Sequence length\")"
   ]
  },
  {
   "cell_type": "code",
   "execution_count": 8,
   "metadata": {},
   "outputs": [
    {
     "data": {
      "text/html": [
       "<div>\n",
       "<style scoped>\n",
       "    .dataframe tbody tr th:only-of-type {\n",
       "        vertical-align: middle;\n",
       "    }\n",
       "\n",
       "    .dataframe tbody tr th {\n",
       "        vertical-align: top;\n",
       "    }\n",
       "\n",
       "    .dataframe thead th {\n",
       "        text-align: right;\n",
       "    }\n",
       "</style>\n",
       "<table border=\"1\" class=\"dataframe\">\n",
       "  <thead>\n",
       "    <tr style=\"text-align: right;\">\n",
       "      <th></th>\n",
       "      <th>0</th>\n",
       "      <th>1</th>\n",
       "      <th>2</th>\n",
       "      <th>3</th>\n",
       "    </tr>\n",
       "  </thead>\n",
       "  <tbody>\n",
       "    <tr>\n",
       "      <th>0</th>\n",
       "      <td>67.0</td>\n",
       "      <td>63.0</td>\n",
       "      <td>58.0</td>\n",
       "      <td>51.0</td>\n",
       "    </tr>\n",
       "    <tr>\n",
       "      <th>1</th>\n",
       "      <td>67.0</td>\n",
       "      <td>63.0</td>\n",
       "      <td>58.0</td>\n",
       "      <td>51.0</td>\n",
       "    </tr>\n",
       "    <tr>\n",
       "      <th>2</th>\n",
       "      <td>67.0</td>\n",
       "      <td>63.0</td>\n",
       "      <td>58.0</td>\n",
       "      <td>51.0</td>\n",
       "    </tr>\n",
       "    <tr>\n",
       "      <th>3</th>\n",
       "      <td>67.0</td>\n",
       "      <td>63.0</td>\n",
       "      <td>58.0</td>\n",
       "      <td>51.0</td>\n",
       "    </tr>\n",
       "    <tr>\n",
       "      <th>4</th>\n",
       "      <td>68.0</td>\n",
       "      <td>63.0</td>\n",
       "      <td>60.0</td>\n",
       "      <td>48.0</td>\n",
       "    </tr>\n",
       "    <tr>\n",
       "      <th>...</th>\n",
       "      <td>...</td>\n",
       "      <td>...</td>\n",
       "      <td>...</td>\n",
       "      <td>...</td>\n",
       "    </tr>\n",
       "    <tr>\n",
       "      <th>98497</th>\n",
       "      <td>-1.0</td>\n",
       "      <td>59.0</td>\n",
       "      <td>53.0</td>\n",
       "      <td>49.0</td>\n",
       "    </tr>\n",
       "    <tr>\n",
       "      <th>98498</th>\n",
       "      <td>-1.0</td>\n",
       "      <td>57.0</td>\n",
       "      <td>54.0</td>\n",
       "      <td>42.0</td>\n",
       "    </tr>\n",
       "    <tr>\n",
       "      <th>98499</th>\n",
       "      <td>-1.0</td>\n",
       "      <td>57.0</td>\n",
       "      <td>54.0</td>\n",
       "      <td>42.0</td>\n",
       "    </tr>\n",
       "    <tr>\n",
       "      <th>98500</th>\n",
       "      <td>-1.0</td>\n",
       "      <td>57.0</td>\n",
       "      <td>56.0</td>\n",
       "      <td>42.0</td>\n",
       "    </tr>\n",
       "    <tr>\n",
       "      <th>98501</th>\n",
       "      <td>-1.0</td>\n",
       "      <td>57.0</td>\n",
       "      <td>56.0</td>\n",
       "      <td>42.0</td>\n",
       "    </tr>\n",
       "  </tbody>\n",
       "</table>\n",
       "<p>97622 rows × 4 columns</p>\n",
       "</div>"
      ],
      "text/plain": [
       "          0     1     2     3\n",
       "0      67.0  63.0  58.0  51.0\n",
       "1      67.0  63.0  58.0  51.0\n",
       "2      67.0  63.0  58.0  51.0\n",
       "3      67.0  63.0  58.0  51.0\n",
       "4      68.0  63.0  60.0  48.0\n",
       "...     ...   ...   ...   ...\n",
       "98497  -1.0  59.0  53.0  49.0\n",
       "98498  -1.0  57.0  54.0  42.0\n",
       "98499  -1.0  57.0  54.0  42.0\n",
       "98500  -1.0  57.0  56.0  42.0\n",
       "98501  -1.0  57.0  56.0  42.0\n",
       "\n",
       "[97622 rows x 4 columns]"
      ]
     },
     "execution_count": 8,
     "metadata": {},
     "output_type": "execute_result"
    }
   ],
   "source": [
    "concat_data[~np.isclose(concat_data[1], -1.)]"
   ]
  },
  {
   "cell_type": "code",
   "execution_count": 9,
   "metadata": {},
   "outputs": [
    {
     "name": "stdout",
     "output_type": "stream",
     "text": [
      "[0, 1, 2, 3]\n"
     ]
    }
   ],
   "source": [
    "print([voice for voice in concat_data])"
   ]
  },
  {
   "cell_type": "code",
   "execution_count": 10,
   "metadata": {},
   "outputs": [
    {
     "name": "stdout",
     "output_type": "stream",
     "text": [
      "[70.25795111120249, 64.8420438016021, 59.252596187460156, 50.245932582425475]\n",
      "[4.121225334257773, 4.088873370354724, 4.454029804474629, 5.29966003147804]\n"
     ]
    }
   ],
   "source": [
    "# standardization, while ignoring the -1's (silences, value does not matter directly)\n",
    "#   first means and stds for each voice\n",
    "means = []\n",
    "stds = []\n",
    "\n",
    "for voice in concat_data:\n",
    "    values = concat_data[~np.isclose(concat_data[voice], -1.)][voice]\n",
    "    means.append(values.mean())\n",
    "    stds.append(values.std())\n",
    "    \n",
    "print(means)\n",
    "print(stds)\n",
    "\n",
    "# now we standardize the values of data\n",
    "for i, df in enumerate(data):\n",
    "    for j, (mean, std) in enumerate(zip(means, stds)):\n",
    "        indices = ~np.isclose(data[i][j], -1.)\n",
    "        data[i].loc[indices, j] = (data[i].loc[indices, j] - mean) / std\n",
    "        \n",
    "        # We change silences to 0. (mean) and add an boolean feature \n",
    "        data[i].loc[~indices, j] = 0.\n",
    "        data[i][str(j) + \"s\"] = 0.\n",
    "        data[i].loc[~indices, str(j) + \"s\"] = 1."
   ]
  },
  {
   "cell_type": "code",
   "execution_count": 11,
   "metadata": {},
   "outputs": [
    {
     "data": {
      "text/plain": [
       "Text(0.5, 1.0, 'Notes in each voice')"
      ]
     },
     "execution_count": 11,
     "metadata": {},
     "output_type": "execute_result"
    },
    {
     "data": {
      "image/png": "[encoded data removed]",
      "text/plain": [
       "<Figure size 640x480 with 1 Axes>"
      ]
     },
     "metadata": {},
     "output_type": "display_data"
    }
   ],
   "source": [
    "# check standardization\n",
    "sns.boxenplot(pd.concat(data).iloc[:,:4], linewidth=.5, linecolor=\".7\",\n",
    "              line_kws=dict(linewidth=1.5, color=\"#cde\"),\n",
    "              flier_kws=dict(facecolor=\".7\", linewidth=.5)).set_title(\"Notes in each voice\")"
   ]
  },
  {
   "cell_type": "code",
   "execution_count": 12,
   "metadata": {},
   "outputs": [],
   "source": [
    "# We want standard input sequence length\n",
    "#   labels and input sequences get shifted by 1, therefore we need +1\n",
    "new_data = []\n",
    "for sequence in data:\n",
    "    for i in range(0, len(sequence), (SEQ_LENGTH + 1) - SEQ_OVERLAP):\n",
    "        # padding needed\n",
    "        if (i + (SEQ_LENGTH + 1)) > len(sequence):\n",
    "            new_data.append(pd.DataFrame(sequence[i:]).reindex(range((SEQ_LENGTH + 1)), fill_value = PAD_VALUE))\n",
    "        else:\n",
    "            new_data.append(pd.DataFrame(sequence[i:i+(SEQ_LENGTH + 1)].values))\n",
    "            \n",
    "data = new_data"
   ]
  },
  {
   "cell_type": "code",
   "execution_count": 16,
   "metadata": {},
   "outputs": [
    {
     "name": "stdout",
     "output_type": "stream",
     "text": [
      "Number of Sequences (was 500): 1155\n"
     ]
    },
    {
     "data": {
      "image/png": "[encoded data removed]",
      "text/plain": [
       "<Figure size 640x480 with 1 Axes>"
      ]
     },
     "metadata": {},
     "output_type": "display_data"
    }
   ],
   "source": [
    "# check sequence lengths\n",
    "sns.boxenplot([len(seq) for seq in data], linewidth=.5, linecolor=\".7\",\n",
    "              line_kws=dict(linewidth=1.5, color=\"#cde\"),\n",
    "              flier_kws=dict(facecolor=\".7\", linewidth=.5)).set_title(\"Sequence lengths\")\n",
    "print(\"Number of Sequences (was 500):\", len(data))"
   ]
  },
  {
   "cell_type": "code",
   "execution_count": 14,
   "metadata": {},
   "outputs": [
    {
     "name": "stdout",
     "output_type": "stream",
     "text": [
      "[[-0.790529720401527 -0.45050155256881885 -0.2812276168879173\n",
      "  0.14228599817641904 0.0 0.0 0.0 0.0]\n",
      " [-0.790529720401527 -0.45050155256881885 -0.2812276168879173\n",
      "  0.14228599817641904 0.0 0.0 0.0 0.0]\n",
      " [-0.790529720401527 -0.45050155256881885 -0.2812276168879173\n",
      "  0.14228599817641904 0.0 0.0 0.0 0.0]\n",
      " [-0.790529720401527 -0.45050155256881885 -0.2812276168879173\n",
      "  0.14228599817641904 0.0 0.0 0.0 0.0]\n",
      " [-0.5478834395278561 -0.45050155256881885 0.16780395402585388\n",
      "  -0.42378804849470675 0.0 0.0 0.0 0.0]]\n",
      "[[-0.790529720401527 -0.45050155256881885 -0.2812276168879173\n",
      "  0.14228599817641904 0.0 0.0 0.0 0.0]\n",
      " [-0.790529720401527 -0.45050155256881885 -0.2812276168879173\n",
      "  0.14228599817641904 0.0 0.0 0.0 0.0]\n",
      " [-0.790529720401527 -0.45050155256881885 -0.2812276168879173\n",
      "  0.14228599817641904 0.0 0.0 0.0 0.0]\n",
      " [-0.5478834395278561 -0.45050155256881885 0.16780395402585388\n",
      "  -0.42378804849470675 0.0 0.0 0.0 0.0]\n",
      " [-0.5478834395278561 -0.45050155256881885 0.16780395402585388\n",
      "  -0.42378804849470675 0.0 0.0 0.0 0.0]]\n"
     ]
    }
   ],
   "source": [
    "# create labels by shifting one to the right\n",
    "input_seqs = []\n",
    "label_seqs = []\n",
    "for sequence in data:\n",
    "    input_seqs.append(sequence[:-1])\n",
    "    label_seqs.append(sequence[1:])\n",
    "    \n",
    "input_seqs = np.array(input_seqs, dtype = object)\n",
    "label_seqs = np.array(label_seqs, dtype = object)\n",
    "print(input_seqs[0][0:5])\n",
    "print(label_seqs[0][0:5]) "
   ]
  },
  {
   "cell_type": "code",
   "execution_count": 15,
   "metadata": {},
   "outputs": [
    {
     "name": "stdout",
     "output_type": "stream",
     "text": [
      "(nr_samples, seq_length, features)\n",
      "train sizes: (981, 128, 8) (981, 128, 8)\n",
      "test sizes: (174, 128, 8) (174, 128, 8)\n"
     ]
    }
   ],
   "source": [
    "# create train test split\n",
    "inputs_train, inputs_test, labels_train, labels_test = train_test_split(input_seqs, label_seqs, test_size = 0.15, random_state = 15)\n",
    "print(\"(nr_samples, seq_length, features)\")\n",
    "print(\"train sizes:\", inputs_train.shape, labels_train.shape)\n",
    "print(\"test sizes:\", inputs_test.shape, labels_test.shape)"
   ]
  },
  {
   "cell_type": "markdown",
   "metadata": {},
   "source": [
    "# MODEL INITIALIZATION"
   ]
  }
 ],
 "metadata": {
  "kernelspec": {
   "display_name": "Python 3",
   "language": "python",
   "name": "python3"
  },
  "language_info": {
   "codemirror_mode": {
    "name": "ipython",
    "version": 3
   },
   "file_extension": ".py",
   "mimetype": "text/x-python",
   "name": "python",
   "nbconvert_exporter": "python",
   "pygments_lexer": "ipython3",
   "version": "3.10.12"
  }
 },
 "nbformat": 4,
 "nbformat_minor": 2
}
